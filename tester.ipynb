{
 "cells": [
  {
   "cell_type": "code",
   "execution_count": 5,
   "metadata": {},
   "outputs": [],
   "source": [
    "import numpy as np\n",
    "\n",
    "from data_worker import combine_batches, split_into_batches, unpickle, \\\n",
    "    unpack_data, display_img\n",
    "from tf_lib.Interface import Interface\n",
    "from tf_lib.Nets import MediumNet\n",
    "from tf_lib.data_worker import suit4tf"
   ]
  },
  {
   "cell_type": "code",
   "execution_count": 6,
   "metadata": {},
   "outputs": [],
   "source": [
    "batches_names = [\n",
    "    'data_batch_1', 'data_batch_2', 'data_batch_3', 'data_batch_4',\n",
    "    'data_batch_5'\n",
    "]"
   ]
  },
  {
   "cell_type": "code",
   "execution_count": 7,
   "metadata": {},
   "outputs": [
    {
     "name": "stdout",
     "output_type": "stream",
     "text": [
      "(32, 32, 3)\n"
     ]
    }
   ],
   "source": [
    "saved_weights_file = 'saved_nets/saved_tf/version1.pth'\n",
    "\n",
    "data_batches = [\n",
    "    unpickle(f'datasets/cifar-10-batches-py/{batch_name}') for batch_name\n",
    "    in batches_names]\n",
    "\n",
    "unpacked_batches = [\n",
    "    (unpack_data(data_batch)) for data_batch\n",
    "    in data_batches]\n",
    "\n",
    "X, Y = combine_batches(unpacked_batches)\n",
    "\n",
    "X_tf, Y_tf = suit4tf(X, Y)"
   ]
  },
  {
   "cell_type": "code",
   "execution_count": 8,
   "metadata": {},
   "outputs": [
    {
     "data": {
      "text/plain": [
       "<tensorflow.python.training.tracking.util.CheckpointLoadStatus at 0x1c3d6232490>"
      ]
     },
     "execution_count": 8,
     "metadata": {},
     "output_type": "execute_result"
    }
   ],
   "source": [
    "net = MediumNet\n",
    "net_interface = Interface(net)\n",
    "net_interface.load_weights(saved_weights_file)"
   ]
  },
  {
   "cell_type": "code",
   "execution_count": null,
   "metadata": {},
   "outputs": [],
   "source": [
    "preds = net_interface.predict_net(X_tf)\n",
    "print(preds)\n",
    "print(np.argmax(preds, axis=1), Y_tf)\n",
    "\n",
    "net_interface.convert2onnx('saved_nets/saved_onnx/onnx_tf_v1.pth')"
   ]
  }
 ],
 "metadata": {
  "kernelspec": {
   "display_name": "Python 3",
   "language": "python",
   "name": "python3"
  },
  "language_info": {
   "codemirror_mode": {
    "name": "ipython",
    "version": 3
   },
   "file_extension": ".py",
   "mimetype": "text/x-python",
   "name": "python",
   "nbconvert_exporter": "python",
   "pygments_lexer": "ipython3",
   "version": "3.9.1"
  }
 },
 "nbformat": 4,
 "nbformat_minor": 4
}
