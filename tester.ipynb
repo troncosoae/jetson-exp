{
 "cells": [
  {
   "cell_type": "code",
   "execution_count": 5,
   "metadata": {},
   "outputs": [],
   "source": [
    "import numpy as np\n",
    "\n",
    "from data_worker import combine_batches, split_into_batches, unpickle, \\\n",
    "    unpack_data, display_img\n",
    "from tf_lib.Interface import Interface\n",
    "from tf_lib.Nets import MediumNet\n",
    "from tf_lib.data_worker import suit4tf"
   ]
  },
  {
   "cell_type": "code",
   "execution_count": 6,
   "metadata": {},
   "outputs": [],
   "source": [
    "batches_names = [\n",
    "    'data_batch_1', 'data_batch_2', 'data_batch_3', 'data_batch_4',\n",
    "    'data_batch_5'\n",
    "]"
   ]
  },
  {
   "cell_type": "code",
   "execution_count": 7,
   "metadata": {},
   "outputs": [
    {
     "name": "stdout",
     "output_type": "stream",
     "text": [
      "(32, 32, 3)\n"
     ]
    }
   ],
   "source": [
    "saved_weights_file = 'saved_nets/saved_tf/version1.pth'\n",
    "\n",
    "data_batches = [\n",
    "    unpickle(f'datasets/cifar-10-batches-py/{batch_name}') for batch_name\n",
    "    in batches_names]\n",
    "\n",
    "unpacked_batches = [\n",
    "    (unpack_data(data_batch)) for data_batch\n",
    "    in data_batches]\n",
    "\n",
    "X, Y = combine_batches(unpacked_batches)\n",
    "\n",
    "X_tf, Y_tf = suit4tf(X, Y)"
   ]
  },
  {
   "cell_type": "code",
   "execution_count": 8,
   "metadata": {},
   "outputs": [
    {
     "data": {
      "text/plain": [
       "<tensorflow.python.training.tracking.util.CheckpointLoadStatus at 0x1c3d6232490>"
      ]
     },
     "execution_count": 8,
     "metadata": {},
     "output_type": "execute_result"
    }
   ],
   "source": [
    "net = MediumNet\n",
    "net_interface = Interface(net)\n",
    "net_interface.load_weights(saved_weights_file)"
   ]
  },
  {
   "cell_type": "code",
   "execution_count": 9,
   "metadata": {
    "scrolled": true
   },
   "outputs": [
    {
     "name": "stdout",
     "output_type": "stream",
     "text": [
      "[[-1.6984074  -3.3212228   0.41532993 ...  0.63259935 -3.352743\n",
      "  -4.1910853 ]\n",
      " [ 0.9032347   3.9915986  -0.72777945 ... -1.0653368   1.08394\n",
      "   4.458828  ]\n",
      " [ 0.6754371   0.8420214  -0.8714923  ...  0.1181847   1.1648003\n",
      "   3.2149613 ]\n",
      " ...\n",
      " [ 1.7583861   3.6480448  -0.9589838  ... -1.7359053   2.2894235\n",
      "   4.2017627 ]\n",
      " [ 3.344025    3.8898945   0.01897952 ... -2.4506001   3.834099\n",
      "   4.2998424 ]\n",
      " [ 1.8929279   0.95378196 -0.7127388  ... -0.02201073  1.4323101\n",
      "   2.4203706 ]]\n",
      "[6 9 9 ... 9 9 9] tf.Tensor([6. 9. 9. ... 9. 1. 1.], shape=(50000,), dtype=float32)\n"
     ]
    }
   ],
   "source": [
    "preds = net_interface.predict_net(X_tf)\n",
    "print(preds)\n",
    "print(np.argmax(preds, axis=1), Y_tf)"
   ]
  },
  {
   "cell_type": "code",
   "execution_count": 11,
   "metadata": {},
   "outputs": [],
   "source": [
    "net_interface.convert2onnx('saved_nets/saved_onnx/onnx_tf_v1.pth')"
   ]
  },
  {
   "cell_type": "code",
   "execution_count": 12,
   "metadata": {},
   "outputs": [
    {
     "ename": "ModuleNotFoundError",
     "evalue": "No module named 'tensorrt'",
     "output_type": "error",
     "traceback": [
      "\u001b[1;31m---------------------------------------------------------------------------\u001b[0m",
      "\u001b[1;31mModuleNotFoundError\u001b[0m                       Traceback (most recent call last)",
      "\u001b[1;32m<ipython-input-12-0a87b2689341>\u001b[0m in \u001b[0;36m<module>\u001b[1;34m\u001b[0m\n\u001b[1;32m----> 1\u001b[1;33m \u001b[1;32mimport\u001b[0m \u001b[0mtensorrt\u001b[0m \u001b[1;32mas\u001b[0m \u001b[0mtrt\u001b[0m\u001b[1;33m\u001b[0m\u001b[1;33m\u001b[0m\u001b[0m\n\u001b[0m",
      "\u001b[1;31mModuleNotFoundError\u001b[0m: No module named 'tensorrt'"
     ]
    }
   ],
   "source": [
    "import tensorrt as trt"
   ]
  },
  {
   "cell_type": "code",
   "execution_count": null,
   "metadata": {},
   "outputs": [],
   "source": []
  }
 ],
 "metadata": {
  "kernelspec": {
   "display_name": "Python 3",
   "language": "python",
   "name": "python3"
  },
  "language_info": {
   "codemirror_mode": {
    "name": "ipython",
    "version": 3
   },
   "file_extension": ".py",
   "mimetype": "text/x-python",
   "name": "python",
   "nbconvert_exporter": "python",
   "pygments_lexer": "ipython3",
   "version": "3.9.1"
  }
 },
 "nbformat": 4,
 "nbformat_minor": 4
}
